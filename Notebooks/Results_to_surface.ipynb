{
 "cells": [
  {
   "cell_type": "markdown",
   "metadata": {},
   "source": [
    "## Project some statistical results on the freesurfer surfaces"
   ]
  },
  {
   "cell_type": "code",
   "execution_count": 2,
   "metadata": {},
   "outputs": [],
   "source": [
    "# initiate some paths and files\n",
    "rt=/Users/chris/Desktop/stats2surf"
   ]
  },
  {
   "cell_type": "code",
   "execution_count": null,
   "metadata": {},
   "outputs": [],
   "source": [
    "fslmaths ${rt}/epi.nii.gz -mas ${rt}/epi_mask.nii.gz ${rt}/epi_brain.nii.gz\n",
    "cp ${rt}/epi_brain.nii.gz ${rt}/epi_brain_rescale.nii.gz"
   ]
  },
  {
   "cell_type": "code",
   "execution_count": null,
   "metadata": {},
   "outputs": [],
   "source": [
    "# create a 1mm (header) version of the epi\n",
    "cp ${rt}/results/MeanAngle_th4_pv0.2.nii.gz ${rt}/results/MeanAngle_th4_pv0.2_rescale.nii.gz\n",
    "cp ${rt}/results/tstat1.nii.gz ${rt}/results/tstat1_rescale.nii.gz\n",
    "cp ${rt}/results/tstat2.nii.gz ${rt}/results/tstat2_rescale.nii.gz\n",
    "\n",
    "3drefit -xdel 2.0 -ydel 2.0 -zdel 2.0 -keepcen ${rt}/epi_brain_rescale.nii.gz\n",
    "3drefit -xdel 2.0 -ydel 2.0 -zdel 2.0 -keepcen ${rt}/results/MeanAngle_th4_pv0.2_rescale.nii.gz\n",
    "3drefit -xdel 2.0 -ydel 2.0 -zdel 2.0 -keepcen ${rt}/results/tstat1_rescale.nii.gz\n",
    "3drefit -xdel 2.0 -ydel 2.0 -zdel 2.0 -keepcen ${rt}/results/tstat2_rescale.nii.gz"
   ]
  },
  {
   "cell_type": "code",
   "execution_count": 3,
   "metadata": {},
   "outputs": [],
   "source": [
    "# do a flirt registration on the orgiginal files (to the 1mm header files)\n",
    "mkdir -p ${rt}/flirt\n",
    "flirt -ref ${rt}/fsSurf/src/brain_org.nii.gz \\\n",
    "    -wmseg ${rt}/fsSurf/src/wm.nii.gz \\\n",
    "    -in ${rt}/epi_brain.nii.gz \\\n",
    "    -out ${rt}/flirt/epi2anat.nii.gz \\\n",
    "    -omat ${rt}/flirt/epi2anat.mat \\\n",
    "    -pedir -2      "
   ]
  },
  {
   "cell_type": "code",
   "execution_count": null,
   "metadata": {},
   "outputs": [],
   "source": [
    "# do a flirt reistration on the 1mm voxel-header files\n",
    "flirt -ref ${rt}/fsSurf/src/brain.nii.gz \\\n",
    "    -wmseg ${rt}/fsSurf/src/wm.nii.gz \\\n",
    "    -in ${rt}/epi_brain_rescale.nii.gz \\\n",
    "    -out ${rt}/flirt/epi2anat_rescale.nii.gz \\\n",
    "    -omat ${rt}/flirt/epi2anat_rescale.mat \\\n",
    "    -pedir -2  "
   ]
  },
  {
   "cell_type": "code",
   "execution_count": null,
   "metadata": {},
   "outputs": [],
   "source": [
    "# tkregister\n",
    "# convert flirt registration matrix to tkregister (and check registration)\n",
    "tkregister2 --mov ${rt}/epi_brain_rescale.nii.gz \\\n",
    "    --targ ${rt}/fsSurf/src/brain.nii.gz \\\n",
    "    --fsl ${rt}/flirt/epi2anat_rescale.mat \\\n",
    "    --reg ${rt}/reg.fsl.dat \\\n",
    "    --s Danny"
   ]
  },
  {
   "cell_type": "code",
   "execution_count": null,
   "metadata": {},
   "outputs": [],
   "source": [
    "mri_vol2surf --trgsubject Danny \\\n",
    "    --src ${rt}/results/tstat1_rescale.nii.gz \\\n",
    "    --out ${rt}/results/targ1.w --out_type paint \\\n",
    "    --srcreg ${rt}/reg.fsl.dat \\\n",
    "    --hemi lh\n",
    "mri_vol2surf --trgsubject Danny \\\n",
    "    --src ${rt}/results/tstat2_rescale.nii.gz \\\n",
    "    --out ${rt}/results/targ2.w --out_type paint \\\n",
    "    --srcreg ${rt}/reg.fsl.dat \\\n",
    "    --hemi lh    \n",
    "mri_vol2surf --trgsubject Danny \\\n",
    "    --src ${rt}/results/MeanAngle_th4_pv0.2_rescale.nii.gz \\\n",
    "    --out ${rt}/results/angle_map.w --out_type paint \\\n",
    "    --srcreg ${rt}/reg.fsl.dat \\\n",
    "    --hemi lh"
   ]
  },
  {
   "cell_type": "code",
   "execution_count": null,
   "metadata": {},
   "outputs": [],
   "source": [
    "# vol2surf\n",
    "tksurfer Danny lh graymid \\\n",
    "-patch full.patch.flat \\\n",
    "-overlay ${rt}/results/targ2.w \\\n",
    "-overlay-reg ${rt}/reg.fsl.dat "
   ]
  },
  {
   "cell_type": "code",
   "execution_count": null,
   "metadata": {},
   "outputs": [],
   "source": []
  },
  {
   "cell_type": "code",
   "execution_count": null,
   "metadata": {},
   "outputs": [],
   "source": [
    "tkregister2 --sd ${targ_dir} --s ${structural_session} --targ ${targ_dir}/${targ_vol} --mov ${mov_dir}/${mov_vol} --reg ${out_reg_dir}/${out_reg} --regheader --movscale 2 ${tkregister2_opts}#--noedit\n"
   ]
  }
 ],
 "metadata": {
  "kernelspec": {
   "display_name": "Bash",
   "language": "bash",
   "name": "bash"
  },
  "language_info": {
   "codemirror_mode": "shell",
   "file_extension": ".sh",
   "mimetype": "text/x-sh",
   "name": "bash"
  }
 },
 "nbformat": 4,
 "nbformat_minor": 2
}
