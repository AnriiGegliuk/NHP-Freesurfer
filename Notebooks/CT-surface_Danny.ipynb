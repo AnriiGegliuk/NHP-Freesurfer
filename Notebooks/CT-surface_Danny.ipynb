{
 "cells": [
  {
   "cell_type": "markdown",
   "metadata": {},
   "source": [
    "# [WIP] Curve tracing results Danny"
   ]
  },
  {
   "cell_type": "code",
   "execution_count": null,
   "metadata": {},
   "outputs": [],
   "source": [
    "ct=(ct-UL ct-DL ct-UR ct-DR)\n",
    "for R in ${ct[@]}; do\n",
    "    mri_vol2surf --trgsubject ${SUBJ} --src ${NOTEBOOK_PATH}/example_data/${R}/tstat1.nii.gz \\\n",
    "    --out ${OUT}/${R}.w --out_type paint \\\n",
    "    --projfrac 1 \\\n",
    "    --srcreg ${OUT}/reg.fsl.dat --hemi lh --hemi rh\n",
    "done"
   ]
  },
  {
   "cell_type": "code",
   "execution_count": null,
   "metadata": {},
   "outputs": [],
   "source": [
    "tksurfer ${SUBJ} rh graymid -patch full.patch.flat \\\n",
    "    -overlay ${OUT}/ct-DL.w -truncphaseflag 1 \\\n",
    "    -overlay-reg ${OUT}/reg.fsl.dat"
   ]
  },
  {
   "cell_type": "code",
   "execution_count": null,
   "metadata": {},
   "outputs": [],
   "source": [
    "tksurfer ${SUBJ} lh graymid -patch full.patch.flat \\\n",
    "    -overlay ${OUT}/ct-UR.w -truncphaseflag 1 \\\n",
    "    -overlay-reg ${OUT}/reg.fsl.dat"
   ]
  }
 ],
 "metadata": {
  "kernelspec": {
   "display_name": "Bash",
   "language": "bash",
   "name": "bash"
  },
  "language_info": {
   "codemirror_mode": "shell",
   "file_extension": ".sh",
   "mimetype": "text/x-sh",
   "name": "bash"
  }
 },
 "nbformat": 4,
 "nbformat_minor": 2
}
