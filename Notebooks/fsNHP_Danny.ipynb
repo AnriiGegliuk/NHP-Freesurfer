{
 "cells": [
  {
   "cell_type": "code",
   "execution_count": 2,
   "metadata": {},
   "outputs": [
    {
     "name": "stdout",
     "output_type": "stream",
     "text": [
      "Working on Danny\n"
     ]
    }
   ],
   "source": [
    "# This is a bash notebook to structure NHP Freesurfer processing\n",
    "# c.klink@nin.knaw.nl\n",
    "\n",
    "SUBJ=Danny\n",
    "echo 'Working on '$SUBJ"
   ]
  },
  {
   "cell_type": "code",
   "execution_count": 1,
   "metadata": {},
   "outputs": [
    {
     "name": "stdout",
     "output_type": "stream",
     "text": [
      "Danny\n"
     ]
    }
   ],
   "source": [
    "BRAIN_0=$fsSUB.nii.gz\n",
    "BRAIN_0_path=/Users/chris/Dropbox/CURRENT_PROJECTS/NHP_MRI/T1/$fsSUB  \n",
    "NMT_path=/NHP_MRI/Template/NMT\n",
    "tmpdir=~/fs_tmp\n",
    "SCRIPT_path=$(pwd)"
   ]
  },
  {
   "cell_type": "code",
   "execution_count": null,
   "metadata": {},
   "outputs": [],
   "source": [
    "## STEP 00 - Prepping the data & initiate #################################\n",
    "# copy to temp folder\n",
    "mkdir -p $tmpdir\n",
    "cp $BRAIN_0_path/$BRAIN_0 $tmpdir/tmp_brain.nii.gz\n",
    "# align rigidly to NMT\n",
    "flirt -in $tmpdir/tmp_brain.nii.gz \\\n",
    "    -ref $NMT_path/NMT.nii.gz \\\n",
    "    -out $tmpdir/tal_brain.nii.gz \\\n",
    "    -omat $tmpdir/brain_to_tal.mat \\\n",
    "    -dof 6\n",
    "# resample to 0.5 mm iso    \n",
    "mri_convert -i $tmpdir/tal_brain.nii.gz \\\n",
    "    -o $tmpdir/tal_brain_rs.nii.gz \\\n",
    "    -vs 0.5 0.5 0.5\n",
    "# fake the header to make fs think we have 1 mm voxels   \n",
    "3drefit -xdel 1.0 -ydel 1.0 -zdel 1.0 -keepcen $tmpdir/tal_brain_rs.nii.gz\n",
    "\n",
    "# additional allignment to make things work\n",
    "# 1 - center between left/right should be at 128\n",
    "# 2 - AC and PC should be at same height\n",
    "freeview -v $tmpdir/tal_brain_rs.nii.gz\n",
    "# save the corrected volume as tal_brain_rs2.mgz "
   ]
  },
  {
   "cell_type": "code",
   "execution_count": null,
   "metadata": {},
   "outputs": [],
   "source": [
    "## STEP 01 - CROP THE VOLUME TO 25x256x256 ################################\n",
    "# find center\n",
    "freeview $tmpdir/tal_brain_rs2.nii.gz\n",
    "CTR[1]=63\n",
    "CTR[2]=87\n",
    "CTR[3]=61\n",
    "\n",
    "mri_convert -i $tmpdir/tal_brain_rs2.nii.gz \\\n",
    "    -o $tmpdir/orig.mgz \\\n",
    "    --crop ${CTR[1]} ${CTR[2]} ${CTR[3]} \\\n",
    "    --conform -nc"
   ]
  },
  {
   "cell_type": "code",
   "execution_count": null,
   "metadata": {},
   "outputs": [],
   "source": [
    "## STEP 02 - SKULL-STRIP ##################################################\n",
    "WST=30 # play with this parameter to get better skullstrip (30/24/15)\n",
    "recon-all -i $tmpdir/orig.mgz -subjid $fsSUB \\\n",
    "    -autorecon1 -no-wsgcaatlas -wsthresh $WST \\\n",
    "    -notal-check -notalairach\n",
    "\n",
    "# check skullstripping result with:\n",
    "freeview -v $SUBJECTS_DIR/$fsSUB/mri/T1.mgz \\\n",
    "    $SUBJECTS_DIR/$fsSUB/mri/brainmask.mgz\n",
    "\n",
    "# if necessary (cerebellum should be present!), rerun skullstrip with:\n",
    "WST2=10\n",
    "recon-all -subjid $fsSUB -skullstrip \\\n",
    "    -no-wsgcaatlas -wsthresh $WST2 \\\n",
    "    -notal-check -notalairach -clean-bm\n",
    "\n",
    "# manually adjust brainmask.nii.gz untill ok\n",
    "freeview -v $SUBJECTS_DIR/$fsSUB/mri/T1.mgz \\\n",
    "    $SUBJECTS_DIR/$fsSUB/mri/brainmask.mgz"
   ]
  },
  {
   "cell_type": "code",
   "execution_count": null,
   "metadata": {},
   "outputs": [],
   "source": [
    "## STEP 03 - SEGMENTATION #################################################\n",
    "# get corpus callosum and pons coordinates\n",
    "\n",
    "CC[1]=129 #130 X\n",
    "CC[2]=119 #116 Y\n",
    "CC[3]=138 #140 Z\n",
    "PONS[1]=127\n",
    "PONS[2]=151\n",
    "PONS[3]=119\n",
    "\n",
    "# first stab at freesurfer reconstruction\n",
    "recon-all -s $fsSUB -autorecon2-inflate1 -noaseg \\\n",
    "    -cc-crs ${CC[1]} ${CC[2]} ${CC[3]} \\\n",
    "    -pons-crs ${PONS[1]} ${PONS[2]} ${PONS[3]} \\\n",
    "    -notal-check -notalairach\n",
    "\n",
    "\n",
    "# add control points to improve (see freesurfer documentation)\n",
    "freeview -v $SUBJECTS_DIR/$fsSUB/mri/brainmask.mgz \\\n",
    "    $SUBJECTS_DIR/$fsSUB/mri/wm.mgz:colormap=heat:opacity=0.4 \\\n",
    "    -f $SUBJECTS_DIR/$fsSUB/surf/lh.orig.nofix:edgecolor=yellow \\\n",
    "    $SUBJECTS_DIR/$fsSUB/surf/rh.orig.nofix:edgecolor=yellow \\\n",
    "    $SUBJECTS_DIR/$fsSUB/surf/rh.inflated.nofix:visible=0 \\\n",
    "    $SUBJECTS_DIR/$fsSUB/surf/lh.inflated.nofix:visible=0\n",
    "\n",
    "# pick seed point in hemispheres to try to fix the cutting error\n",
    "LH[1]=144\n",
    "LH[2]=11\n",
    "LH[3]=129 # X Y Z left hemisphere\n",
    "RH[1]=110\n",
    "RH[2]=113\n",
    "RH[3]=131 # X Y Z right hemisphere\n",
    "\n",
    "# rerun taking control points into account\n",
    "recon-all -s $fsSUB -autorecon2-inflate1 -noaseg \\\n",
    "    -cc-crs ${CC[1]} ${CC[2]} ${CC[3]} \\\n",
    "    -pons-crs ${PONS[1]} ${PONS[2]} ${PONS[3]} \\\n",
    "    -notal-check -notalairach\n",
    "\n",
    "# repeat untill ok\n",
    "# manually edit WM\n",
    "\n",
    "# check in surface rendering using\n",
    "tksurfer $MONKEY rh inflated.nofix"
   ]
  },
  {
   "cell_type": "code",
   "execution_count": null,
   "metadata": {},
   "outputs": [],
   "source": [
    "## STEP 04 - INFLATE ######################################################\n",
    "# this one will take many hours so make sure \n",
    "# you're happy with the previous results\n",
    "\n",
    "recon-all -s $fsSUB -autorecon2-wm -noaseg \\\n",
    "    -cc-crs ${CC[1]} ${CC[2]} ${CC[3]} \\\n",
    "    -pons-crs ${PONS[1]} ${PONS[2]} ${PONS[3]}"
   ]
  }
 ],
 "metadata": {
  "kernelspec": {
   "display_name": "Bash",
   "language": "bash",
   "name": "bash"
  },
  "language_info": {
   "codemirror_mode": "shell",
   "file_extension": ".sh",
   "mimetype": "text/x-sh",
   "name": "bash"
  }
 },
 "nbformat": 4,
 "nbformat_minor": 2
}
