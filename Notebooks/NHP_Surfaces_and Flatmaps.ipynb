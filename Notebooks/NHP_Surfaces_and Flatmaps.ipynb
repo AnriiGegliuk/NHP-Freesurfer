{
 "cells": [
  {
   "cell_type": "markdown",
   "metadata": {},
   "source": [
    "# **Create Single Monkey Surfaces**  "
   ]
  },
  {
   "cell_type": "markdown",
   "metadata": {},
   "source": [
    "This notebook will guide you through the procedure to create single monkey surface representations in four steps (some are optional):  \n",
    "\n",
    "1. **(OPTIONAL)** Average multiple T1 scans from the same animal. (takes seconds)\n",
    "2. Segment the (averaged) T1 of an individual animal using the NMT template as a prior. (takes many hours)\n",
    "3. Create surfaces and flatmaps using Freesurfer. (takes minutes to hours depending on segmentation quality at the start)\n",
    "4. **(OPTIONAL)** Create additional surfaces with Connectome Workbench. (takes minutes)"
   ]
  },
  {
   "cell_type": "markdown",
   "metadata": {},
   "source": [
    "## Initiate \n",
    "Setting a few environment variables here so we can actually run code from this notebook"
   ]
  },
  {
   "cell_type": "code",
   "execution_count": null,
   "metadata": {},
   "outputs": [],
   "source": [
    "SUBJ=Danny  # Name of the animal you are going to process\n",
    "NMT_path=/NHP_MRI/Template/NMT # path to the template folder\n",
    "startpath=pwd "
   ]
  },
  {
   "cell_type": "markdown",
   "metadata": {},
   "source": [
    "## **Step 1: Average multiple T1 scans**\n",
    "### Requirements:\n",
    "- Freesurfer installation (https://surfer.nmr.mgh.harvard.edu/)\n",
    "- NIH Macaque Template (https://github.com/jms290/NMT)\n",
    "- One or more high resolution anatomical scans\n",
    "\n",
    "- The `average_multiple_t1.sh ` script  \n",
    "  "
   ]
  },
  {
   "cell_type": "markdown",
   "metadata": {},
   "source": [
    "### Procedure\n",
    "- Create a folder for your subject in the NIH Macaque Template folder as \n",
    "\n",
    "`<>/NHP_MRI/Template/NMT/single_subject_scans/<SUBJECT>`  \n",
    "\n",
    "- Inside this folder, create a subfolder with all individual T1 scan for this subject, e.g. \n",
    "\n",
    "`<>/NHP_MRI/Template/NMT/single_subject_scans/<SUBJECT>/<T1_FLD>/*.nii.gz`  \n",
    "\n",
    "- Copy the script `average_multiple_t1.sh` to the `<SUBJECT>` folder as well.  \n",
    "\n",
    "- Run this script with the name of the `<T1_FLD>` as input:  \n",
    "\n",
    "`$ ./average_multiple_t1.sh <T1_FLD>`  \n",
    "\n",
    "\n",
    "- The script will:  \n",
    "\n",
    "    - Correct for having the monkey in the sphinx position  \n",
    "    - Resample each T1 to 0.5 mm isotropic voxels  \n",
    "    - Reorient the colume for correct display in FSL (e.g., with FSLEyes)  \n",
    "    - Normalize the contrast gradient  \n",
    "    - Average the multiple T1's together using motion correction to account for small differences  \n",
    "  \n",
    "  \n",
    "- When the script is done, there should be a `<SUBJECT>.nii.gz` file in the root `<SUBJECT>` folder."
   ]
  },
  {
   "cell_type": "code",
   "execution_count": null,
   "metadata": {},
   "outputs": [],
   "source": [
    "NMT_ss_path=${NMT_path}/single_subject_scans/${SUBJ}\n",
    "mkdir -p ${NMT_ss_path}\n",
    "mkdir -p ${NMT_path}/single_subject_scans/${SUBJ}/T1s\n",
    "echo Copy the T1 files to ${NMT_path}/single_subject_scans/${SUBJ}/T1s"
   ]
  },
  {
   "cell_type": "code",
   "execution_count": null,
   "metadata": {},
   "outputs": [],
   "source": [
    "cp ${NMT_path}/single_subject_scans/average_multiple_t1.sh \\\n",
    "    ${NMT_path}/single_subject_scans/${SUBJ}/\n",
    "cd ${NMT_path}/single_subject_scans/${SUBJ}/\n",
    "./average_multiple_t1.sh T1s"
   ]
  },
  {
   "cell_type": "markdown",
   "metadata": {},
   "source": [
    "## **Step 2: Segment the single subject anatomy using the NMT template as a prior**\n",
    "### Requirements\n",
    "  - NIH Macaque Template (https://github.com/jms290/NMT)  \n",
    "  - ANTS (http://stnava.github.io/ANTs/)\n",
    "  - AFNI (https://afni.nimh.nih.gov/)\n",
    " \n",
    "### Procedure\n",
    "This will segment and process the single-subject anatomical and warp the D99 atlas (https://afni.nimh.nih.gov/Macaque) to your individual anatomy.  \n",
    "\n",
    "- Navigate to `<>/NHP_MRI/Template/NMT/single_subject_scans` in your terminal\n",
    "  \n",
    "- There should be a folder `<SUBJECT>` containing a T1 named `<SUBJECT>.nii.gz` (Step 1 produces this)\n",
    "  \n",
    "- Run the `align_and_process_singlesubject.sh` script with input `<SUBJECT>`:\n",
    "      \n",
    "- The following 2 steps can be executed together by running: `$ ./create_ss_atlas.sh <SUBJECT>`  \n",
    "\n",
    "    - Extracting single ROI masks from the warped atlas: `./extract_ROI.sh <SUBJECT>`  \n",
    "\n",
    "    - Creating a label-file that makes the warped atlas usable in FSLEyes: `./create_xml.sh <SUBJECT>`\n"
   ]
  },
  {
   "cell_type": "code",
   "execution_count": null,
   "metadata": {},
   "outputs": [],
   "source": [
    "cd ${NMT_path}/single_subject_scans\n",
    "./align_and_process_singlesubject.sh ${SUBJ}\n",
    "./create_ss_atlas ${SUBJ}"
   ]
  },
  {
   "cell_type": "markdown",
   "metadata": {},
   "source": [
    "## **Step 3: Create surfaces and flatmaps using Freesurfer**"
   ]
  },
  {
   "cell_type": "markdown",
   "metadata": {},
   "source": [
    "### Requirements  \n",
    "- Freesurfer installation (https://surfer.nmr.mgh.harvard.edu/)\n",
    "- Segmented individual subject T1"
   ]
  },
  {
   "cell_type": "markdown",
   "metadata": {},
   "source": [
    "### Procedure\n",
    "#### Create folders & copy files"
   ]
  },
  {
   "cell_type": "code",
   "execution_count": null,
   "metadata": {},
   "outputs": [],
   "source": [
    "fsSurf=${NMT_path}/single_subject_scans/${SUBJ}/fsSurf\n",
    "mkdir -p ${fsSurf}\n",
    "\n",
    "NMT_src=${NMT_path}/single_subject_scans/${SUBJ}/NMT_${SUBJ}_process # adjust this if you have manually adjusted and saved to a different folder\n",
    "\n",
    "fsSurf_src=${fsSurf}/src\n",
    "mkdir -p ${fsSurf_src}\n",
    "fsSurf_mgz=${fsSurf}/mgz\n",
    "mkdir -p ${fsSurf_mgz}\n",
    "fsSurf_temp=${fsSurf}/temp\n",
    "mkdir -p ${fsSurf_temp}\n",
    "\n",
    "cp ${NMT_src}/${SUBJ}_N4.nii.gz ${fsSurf_src}/T1.nii.gz\n",
    "cp ${NMT_src}/${SUBJ}_brain.nii.gz ${fsSurf_src}/brain.nii.gz\n",
    "cp ${NMT_src}/${SUBJ}_brainmask.nii.gz ${fsSurf_src}/brainmask.nii.gz\n",
    "cp ${NMT_src}/${SUBJ}_segmentation_WM.nii.gz ${fsSurf_src}/wm.nii.gz"
   ]
  },
  {
   "cell_type": "markdown",
   "metadata": {},
   "source": [
    "#### Change headers to mimic 1mm isotropic voxels & make mgz files"
   ]
  },
  {
   "cell_type": "code",
   "execution_count": null,
   "metadata": {},
   "outputs": [],
   "source": [
    "3drefit -xdel 1.0 -ydel 1.0 -zdel 1.0 -keepcen ${fsSurf_src}/T1.nii.gz\n",
    "3drefit -xdel 1.0 -ydel 1.0 -zdel 1.0 -keepcen ${fsSurf_src}/brain.nii.gz\n",
    "3drefit -xdel 1.0 -ydel 1.0 -zdel 1.0 -keepcen ${fsSurf_src}/brainmask.nii.gz\n",
    "3drefit -xdel 1.0 -ydel 1.0 -zdel 1.0 -keepcen ${fsSurf_src}/wm.nii.gz\n",
    "\n",
    "mri_convert -c ${fsSurf_src}/T1.nii.gz ${fsSurf_mgz}/T1.mgz\n",
    "mri_convert -c ${fsSurf_src}/brain.nii.gz ${fsSurf_mgz}/brain.mgz\n",
    "mri_convert -c ${fsSurf_src}/brainmask.nii.gz ${fsSurf_mgz}/brainmask.mgz\n",
    "mri_convert -c ${fsSurf_src}/wm.nii.gz ${fsSurf_mgz}/wm.mgz\n",
    "\n",
    "mri_mask -T 5 ${fsSurf_mgz}/brain.mgz ${fsSurf_mgz}/brainmask.mgz ${fsSurf_mgz}/brain.finalsurfs.mgz"
   ]
  },
  {
   "cell_type": "markdown",
   "metadata": {},
   "source": [
    "#### Get corpus callosum and pons voxel coordinates\n",
    "Corpus callosum:  \n",
    "![CC](pics/CC_coordinates.png)\n",
    "\n",
    "Pons: \n",
    "![PONS](pics/PONS_coordinates.png)"
   ]
  },
  {
   "cell_type": "code",
   "execution_count": null,
   "metadata": {},
   "outputs": [],
   "source": [
    "# Inspect volume to get voxel coordinates\n",
    "freeview -v ${fsSurf_mgz}/brain.mgz &"
   ]
  },
  {
   "cell_type": "code",
   "execution_count": null,
   "metadata": {},
   "outputs": [],
   "source": [
    "CC=(127 114 129)\n",
    "PONS=(124 148 119)"
   ]
  },
  {
   "cell_type": "markdown",
   "metadata": {},
   "source": [
    "#### Fill the white matter volume & copy for fixing"
   ]
  },
  {
   "cell_type": "code",
   "execution_count": null,
   "metadata": {},
   "outputs": [],
   "source": [
    "# Fill WM\n",
    "mri_fill -CV ${CC[0]} ${CC[1]} ${CC[2]} \\\n",
    "    -PV ${PONS[0]} ${PONS[1]} ${PONS[2]} \\\n",
    "    ${fsSurf_mgz}/wm.mgz ${fsSurf_mgz}/filled.mgz\n",
    "    \n",
    "cp ${fsSurf_mgz}/wm.mgz ${fsSurf_mgz}/wm_nofix.mgz"
   ]
  },
  {
   "cell_type": "markdown",
   "metadata": {},
   "source": [
    "#### Tesselate volumes & fix topology (First run)"
   ]
  },
  {
   "cell_type": "code",
   "execution_count": null,
   "metadata": {},
   "outputs": [],
   "source": [
    "# left\n",
    "mri_pretess ${fsSurf_mgz}/filled.mgz 255 ${fsSurf_mgz}/brain.mgz ${fsSurf_mgz}/wm_filled-pretess255.mgz\n",
    "mri_tessellate ${fsSurf_mgz}/wm_filled-pretess255.mgz 255 ${fsSurf_temp}/lh.orig.nofix\n",
    "# right\n",
    "mri_pretess ${fsSurf_mgz}/filled.mgz 127 ${fsSurf_mgz}/brain.mgz ${fsSurf_mgz}/wm_filled-pretess127.mgz\n",
    "mri_tessellate ${fsSurf_mgz}/wm_filled-pretess127.mgz 127 ${fsSurf_temp}/rh.orig.nofix\n",
    "\n",
    "HEMI=(lh rh) # array to loop over hemispheres\n",
    "for xh in ${HEMI[@]}; do\n",
    "    cp ${fsSurf_temp}/${xh}.orig.nofix ${fsSurf_temp}/${xh}.orig\n",
    "\n",
    "    # post-process tesselation\n",
    "    mris_extract_main_component ${fsSurf_temp}/${xh}.orig.nofix ${fsSurf_temp}/${xh}.orig.nofix\n",
    "    mris_smooth -nw ${fsSurf_temp}/${xh}.orig.nofix ${fsSurf_temp}/${xh}.smoothwm.nofix\n",
    "    mris_inflate ${fsSurf_temp}/${xh}.smoothwm.nofix ${fsSurf_temp}/${xh}.inflated.nofix\n",
    "    mris_sphere -q ${fsSurf_temp}/${xh}.inflated.nofix ${fsSurf_temp}/${xh}.qsphere.nofix\n",
    "    cp ${fsSurf_temp}/${xh}.inflated.nofix ${fsSurf_temp}/${xh}.inflated\n",
    "\n",
    "    # fix topology\n",
    "    mris_euler_number ${fsSurf_temp}/${xh}.orig\n",
    "    mris_remove_intersection ${fsSurf_temp}/${xh}.orig ${fsSurf_temp}/${xh}.orig\n",
    "    mris_smooth -nw ${fsSurf_temp}/${xh}.orig ${fsSurf_temp}/${xh}.smoothwm\n",
    "    mris_inflate ${fsSurf_temp}/${xh}.smoothwm ${fsSurf_temp}/${xh}.inflated\n",
    "done"
   ]
  },
  {
   "cell_type": "markdown",
   "metadata": {},
   "source": [
    "#### Iterate manual adjustments and doing tesselation & topology fix again\n",
    "Should look something like this. Keep going (adjust wm.mgz using the recon-edit function of Freeview) until you are happy with the result.\n",
    "\n",
    "![LH_wm_inflated](pics/LH_wm_inflated.png) ![RH_wm_inflated](pics/RH_in_wm_inflated.png)\n"
   ]
  },
  {
   "cell_type": "code",
   "execution_count": null,
   "metadata": {},
   "outputs": [],
   "source": [
    "# look at the result and apply fixes in WM definition\n",
    "freeview -v ${fsSurf_mgz}/brain.mgz -v ${fsSurf_mgz}/wm.mgz \\\n",
    "    -f ${fsSurf_temp}/lh.smoothwm ${fsSurf_temp}/lh.inflated \\\n",
    "    ${fsSurf_temp}/rh.smoothwm ${fsSurf_temp}/rh.inflated &"
   ]
  },
  {
   "cell_type": "code",
   "execution_count": null,
   "metadata": {},
   "outputs": [],
   "source": [
    "# redo the tesselation with the fixed WM volume\n",
    "mri_fill -CV ${CC[0]} ${CC[1]} ${CC[2]} \\\n",
    "    -PV ${PONS[0]} ${PONS[1]} ${PONS[2]} \\\n",
    "    ${fsSurf_mgz}/wm.mgz ${fsSurf_mgz}/filled.mgz\n",
    "    \n",
    "mri_pretess ${fsSurf_mgz}/filled.mgz 255 ${fsSurf_mgz}/brain.mgz ${fsSurf_mgz}/wm_filled-pretess255.mgz\n",
    "mri_tessellate ${fsSurf_mgz}/wm_filled-pretess255.mgz 255 ${fsSurf_temp}/lh.orig\n",
    "mri_pretess ${fsSurf_mgz}/filled.mgz 127 ${fsSurf_mgz}/brain.mgz ${fsSurf_mgz}/wm_filled-pretess127.mgz\n",
    "mri_tessellate ${fsSurf_mgz}/wm_filled-pretess127.mgz 127 ${fsSurf_temp}/rh.orig\n",
    "\n",
    "for xh in ${HEMI[@]}; do\n",
    "    mris_extract_main_component ${fsSurf_temp}/${xh}.orig ${fsSurf_temp}/${xh}.orig\n",
    "    mris_smooth -nw ${fsSurf_temp}/${xh}.orig ${fsSurf_temp}/${xh}.smoothwm\n",
    "    mris_inflate ${fsSurf_temp}/${xh}.smoothwm ${fsSurf_temp}/${xh}.inflated\n",
    "    mris_sphere -q ${fsSurf_temp}/${xh}.inflated ${fsSurf_temp}/${xh}.qsphere\n",
    "    \n",
    "    mris_euler_number ${fsSurf_temp}/${xh}.orig\n",
    "    mris_remove_intersection ${fsSurf_temp}/${xh}.orig ${fsSurf_temp}/${xh}.orig\n",
    "    mris_smooth -nw ${fsSurf_temp}/${xh}.orig ${fsSurf_temp}/${xh}.smoothwm\n",
    "    mris_inflate ${fsSurf_temp}/${xh}.smoothwm ${fsSurf_temp}/${xh}.inflated\n",
    "    mris_curvature -thresh .999 -n -a 5 -w -distances 10 10 ${fsSurf_temp}/${xh}.inflated\n",
    "    mris_sphere ${fsSurf_temp}/${xh}.inflated ${fsSurf_temp}/${xh}.sphere\n",
    "done\n",
    "echo 'TESSELATION DONE!'"
   ]
  },
  {
   "cell_type": "code",
   "execution_count": null,
   "metadata": {},
   "outputs": [],
   "source": [
    "for xh in ${HEMI[@]}; do\n",
    "    mris_sphere ${fsSurf_temp}/${xh}.inflated ${fsSurf_temp}/${xh}.sphere\n",
    "done"
   ]
  },
  {
   "cell_type": "markdown",
   "metadata": {},
   "source": [
    "#### Create a subject directory in your freesurfer subject directory"
   ]
  },
  {
   "cell_type": "code",
   "execution_count": null,
   "metadata": {},
   "outputs": [],
   "source": [
    "# create a freesurfer SUBJECT with the correct folder structure\n",
    "# NB! $SUBJECTS_DIR should be defined in your ~/.bashrc as the Freesurfer subjects directory\n",
    "echo 'Creating a subject directory for '${SUBJ}'in:'\n",
    "echo ${SUBJECTS_DIR}/${SUBJ}\n",
    "mksubjdirs ${SUBJECTS_DIR}/${SUBJ}"
   ]
  },
  {
   "cell_type": "markdown",
   "metadata": {},
   "source": [
    "#### Cut surfaces and create flatmaps"
   ]
  },
  {
   "cell_type": "code",
   "execution_count": null,
   "metadata": {},
   "outputs": [],
   "source": [
    "# copy the necessary files for cutting to the subject directory\n",
    "for xh in ${HEMI[@]}; do\n",
    "    cp ${fsSurf_temp}/${xh}.inflated ${SUBJECTS_DIR}/${SUBJ}/surf/\n",
    "    cp ${fsSurf_temp}/${xh}.smoothwm ${SUBJECTS_DIR}/${SUBJ}/surf/\n",
    "    cp ${fsSurf_temp}/${xh}.orig ${SUBJECTS_DIR}/${SUBJ}/surf/\n",
    "    cp ${fsSurf_temp}/${xh}.qsphere ${SUBJECTS_DIR}/${SUBJ}/surf/\n",
    "done\n",
    "\n",
    "cp ${fsSurf_mgz}/T1.mgz ${SUBJECTS_DIR}/${SUBJ}/mri/T1.mgz\n",
    "cp ${fsSurf_mgz}/filled.mgz ${SUBJECTS_DIR}/${SUBJ}/mri/filled.mgz\n",
    "cp ${fsSurf_mgz}/wm.mgz ${SUBJECTS_DIR}/${SUBJ}/mri/wm.mgz\n",
    "cp ${fsSurf_mgz}/brain.finalsurfs.mgz ${SUBJECTS_DIR}/${SUBJ}/mri/brain.finalsurfs.mgz"
   ]
  },
  {
   "cell_type": "code",
   "execution_count": null,
   "metadata": {},
   "outputs": [],
   "source": [
    "# create surfaces\n",
    "for xh in ${HEMI[@]}; do\n",
    "    mris_make_surfaces -noaseg -noaparc -T1 brain.finalsurfs -orig_wm orig ${SUBJ} ${xh}\n",
    "    mris_sphere ${SUBJECTS_DIR}/${SUBJ}/surf/${xh}.inflated ${SUBJECTS_DIR}/${SUBJ}/surf/${xh}.sphere\n",
    "    mris_expand -thickness ${SUBJECTS_DIR}/${SUBJ}/surf/${xh}.white 0.5 ${SUBJECTS_DIR}/${SUBJ}/surf/${xh}.graymid\n",
    "done"
   ]
  },
  {
   "cell_type": "markdown",
   "metadata": {},
   "source": [
    "The cells below will load the inflated hemispheres in tksurfer where you can make the cuts to create the flatmaps.  \n",
    "\n",
    "For the full hemisphere make cuts on the medial wall. One cut enclosing the midline and five additional relaxation cuts.\n",
    "Mark a point on the part of the surface you want to keep and save patch as `?h.full.patch.3d` (replace '?' with 'l' and 'r' respectively)\n",
    "\n",
    "![Cut_full](pics/Cut_full.png)\n",
    "\n",
    "For an occipital patch make one cut on the medial wall along the calcarine sulcus. Use 3 points to select a coronal cutting plane, and a fourth point to select which part of the surface you want to keep and save as `?h.occip.patch.3d`\n",
    "\n",
    "![Cut_occip1](pics/Cut_occip1.png) ![Cut_occip1](pics/Cut_occip2.png)"
   ]
  },
  {
   "cell_type": "code",
   "execution_count": null,
   "metadata": {},
   "outputs": [],
   "source": [
    "# left\n",
    "tksurfer ${SUBJ} lh inflated -curv"
   ]
  },
  {
   "cell_type": "code",
   "execution_count": null,
   "metadata": {},
   "outputs": [],
   "source": [
    "# right\n",
    "tksurfer ${SUBJ} rh inflated -curv"
   ]
  },
  {
   "cell_type": "code",
   "execution_count": null,
   "metadata": {},
   "outputs": [],
   "source": [
    "cd ${SUBJECTS_DIR}/${SUBJ}/surf/\n",
    "for xh in ${HEMI[@]}; do\n",
    "    mris_flatten -w 0 -distances 20 7 ${xh}.full.patch.3d  ${xh}.full.patch.flat\n",
    "    mris_flatten -w 0 -distances 20 7 ${xh}.occip.patch.3d  ${xh}.occip.patch.flat\n",
    "done"
   ]
  },
  {
   "cell_type": "markdown",
   "metadata": {},
   "source": [
    "If everything went well, you now have flatmaps of the white matter surface. \n",
    "They should look somewhat like this:  \n",
    "[FULL]  \n",
    "![RH_flatmap](pics/RH_Flat_Sulci.png) ![RH_flatmap_gray](pics/RH_Flat_Sulci_gray.png)"
   ]
  },
  {
   "cell_type": "code",
   "execution_count": null,
   "metadata": {},
   "outputs": [],
   "source": [
    "# check your result\n",
    "tksurfer ${SUBJ} rh inflated -patch rh.full.patch.flat -curv # for a red/green curvature map\n",
    "#tksurfer ${SUBJ} rh inflated -patch rh.full.patch.flat -gray # for a gray curvature map"
   ]
  },
  {
   "cell_type": "markdown",
   "metadata": {},
   "source": [
    "#### Copy Freesurfer results back to NMT template folder"
   ]
  },
  {
   "cell_type": "code",
   "execution_count": 15,
   "metadata": {},
   "outputs": [],
   "source": [
    "cp -r ${SUBJECTS_DIR}/${SUBJ}/surf ${fsSurf}/surf"
   ]
  },
  {
   "cell_type": "code",
   "execution_count": null,
   "metadata": {},
   "outputs": [],
   "source": [
    "# return to startpath\n",
    "cd ${startpath}"
   ]
  },
  {
   "cell_type": "markdown",
   "metadata": {},
   "source": [
    "## Step 4: Create additional surfaces using Connectome Workbench.\n",
    "This may not be necessary at all. Try the Freesurfer approach and the conversion to gifti with `mris_convert` first (as explained above)\n",
    "\n",
    "### Requirements\n",
    "  - Connectome Workbench (https://www.humanconnectome.org/software/connectome-workbench)  "
   ]
  },
  {
   "cell_type": "code",
   "execution_count": null,
   "metadata": {},
   "outputs": [],
   "source": [
    "# THIS SHOULDN'T BE NECESSARY SINCE WE'RE GETTINGS THESE OUTPUTS ALSO FROM THE FREESURFER PIPELINE !! #\n",
    "\n",
    "# set path to where you want the results\n",
    "wbSurf_path=${NMT_path}/single_subject_scans/${SUBJ}/wbSurf\n",
    "\n",
    "echo 'Extracting surfaces from segmentation'\n",
    "cd ${wbSurf_path}\n",
    "\n",
    "# create surfaces\n",
    "IsoSurface -input ${NMT_ss_path}/NMT_${SUBJ}_process/${SUBJ}_segmentation.nii.gz \\\n",
    "    -isorois -o_gii surf\n",
    "\n",
    "# rename to something recognizable\n",
    "mv surf.k2.gii gm.surf.gii # gm surface\n",
    "mv surf.k3.gii wm.surf.gii # wm surface\n",
    "\n",
    "# Smooth the surfaces a bit\n",
    "echo 'Smoothing the surfaces a bit' \n",
    "wb_command -surface-smoothing wm.surf.gii 0.5 1 wm_sm.surf.gii\n",
    "wb_command -surface-smoothing gm.surf.gii 0.5 1 gm_sm.surf.gii\n",
    "\n",
    "# inflate the surfaces\n",
    "echo 'Inflating the surfaces'\n",
    "wb_command -surface-generate-inflated \\\n",
    "    wm_sm.surf.gii infl_wm_sm.surf.gii vinfl_wm_sm.surf.gii\n",
    "wb_command -surface-generate-inflated \\\n",
    "    gm_sm.surf.gii infl_gm_sm.surf.gii vinfl_gm_sm.surf.gii\n",
    "\n",
    "# view the result in your favorite viewer\n",
    "echo 'Inspect the surfaces in a viewer'\n",
    "freeview -f wm_sm.surf.gii infl_wm_sm.surf.gii vinfl_wm_sm.surf.gii \\\n",
    "    gm_sm.surf.gii infl_gm_sm.surf.gii vinfl_gm_sm.surf.gii"
   ]
  },
  {
   "cell_type": "code",
   "execution_count": null,
   "metadata": {},
   "outputs": [],
   "source": []
  }
 ],
 "metadata": {
  "kernelspec": {
   "display_name": "Bash",
   "language": "bash",
   "name": "bash"
  },
  "language_info": {
   "codemirror_mode": "shell",
   "file_extension": ".sh",
   "mimetype": "text/x-sh",
   "name": "bash"
  }
 },
 "nbformat": 4,
 "nbformat_minor": 2
}
