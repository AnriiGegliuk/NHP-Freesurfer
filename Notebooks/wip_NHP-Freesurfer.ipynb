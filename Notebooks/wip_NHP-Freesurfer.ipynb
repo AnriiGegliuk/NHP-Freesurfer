{
 "cells": [
  {
   "cell_type": "markdown",
   "metadata": {},
   "source": [
    "## CREATE FS-SURFACES FROM NMT-SEGMENTED ANATOMICALS"
   ]
  },
  {
   "cell_type": "markdown",
   "metadata": {},
   "source": [
    "### Initiate files and paths"
   ]
  },
  {
   "cell_type": "code",
   "execution_count": null,
   "metadata": {},
   "outputs": [],
   "source": [
    "# Subject name\n",
    "SUBJ=Danny\n",
    "\n",
    "# paths\n",
    "src_path=~/Desktop/FS_ALT/${SUBJ}\n",
    "src_vol=${src_path}/${SUBJ}_N4\n",
    "src_brain=${src_path}/${SUBJ}_brain\n",
    "src_brainmask=${src_path}/${SUBJ}_brainmask\n",
    "src_WM=${src_path}/${SUBJ}_WM\n",
    "out_path=~/Desktop/FS_ALT/${SUBJ}/fs\n",
    "mkdir -p ${out_path}\n",
    "\n",
    "# facilitate doing hemispheres in a for loop\n",
    "HEMI=(lh rh)"
   ]
  },
  {
   "cell_type": "markdown",
   "metadata": {},
   "source": [
    "### Change headers to pretend we have 1 mm isotropic voxels"
   ]
  },
  {
   "cell_type": "code",
   "execution_count": null,
   "metadata": {
    "collapsed": true
   },
   "outputs": [],
   "source": [
    "3drefit -xdel 1.0 -ydel 1.0 -zdel 1.0 -keepcen $src_vol.nii.gz\n",
    "3drefit -xdel 1.0 -ydel 1.0 -zdel 1.0 -keepcen $src_brain.nii.gz\n",
    "3drefit -xdel 1.0 -ydel 1.0 -zdel 1.0 -keepcen $src_brainmask.nii.gz\n",
    "3drefit -xdel 1.0 -ydel 1.0 -zdel 1.0 -keepcen $src_WM.nii.gz"
   ]
  },
  {
   "cell_type": "markdown",
   "metadata": {},
   "source": [
    "### Convert volumes to mgz"
   ]
  },
  {
   "cell_type": "code",
   "execution_count": null,
   "metadata": {
    "collapsed": true
   },
   "outputs": [],
   "source": [
    "mri_convert -c $src_vol.nii.gz $src_vol.mgz\n",
    "mri_convert -c $src_brain.nii.gz $src_brain.mgz\n",
    "mri_convert -c $src_brainmask.nii.gz $src_brainmask.mgz\n",
    "mri_convert -c $src_WM.nii.gz $src_WM.mgz"
   ]
  },
  {
   "cell_type": "markdown",
   "metadata": {},
   "source": [
    "### Get corpus callosum and pons coordinates & fill WM"
   ]
  },
  {
   "cell_type": "code",
   "execution_count": null,
   "metadata": {
    "collapsed": true
   },
   "outputs": [],
   "source": [
    "# Inspect volume to get voxel coordinates\n",
    "freeview -v $src_brain.mgz &"
   ]
  },
  {
   "cell_type": "code",
   "execution_count": null,
   "metadata": {},
   "outputs": [],
   "source": [
    "# Fill in WM and check result\n",
    "CC=(127 114 129)\n",
    "PONS=(124 148 129)"
   ]
  },
  {
   "cell_type": "code",
   "execution_count": null,
   "metadata": {
    "collapsed": true
   },
   "outputs": [],
   "source": [
    "# Fill WM\n",
    "mri_fill -CV ${CC[0]} ${CC[1]} ${CC[2]} \\\n",
    "    -PV ${PONS[0]} ${PONS[1]} ${PONS[2]} \\\n",
    "    $src_WM.mgz $out_path/WM_filled.mgz\n",
    "\n",
    "# Check the result\n",
    "freeview $out_path/WM_filled.mgz &"
   ]
  },
  {
   "cell_type": "code",
   "execution_count": null,
   "metadata": {
    "collapsed": true
   },
   "outputs": [],
   "source": [
    "# copy the white matter volume so we can edit it later\n",
    "cp $src_WM.mgz $out_path/${SUBJ}_WM_fix.mgz"
   ]
  },
  {
   "cell_type": "code",
   "execution_count": null,
   "metadata": {},
   "outputs": [],
   "source": [
    "mri_mask -T 5 $src_brain.mgz $src_brainmask.mgz ${src_path}/${SUBJ}_brain.finalsurfs.mgz"
   ]
  },
  {
   "cell_type": "markdown",
   "metadata": {},
   "source": [
    "### Tesselate volumes (first run)"
   ]
  },
  {
   "cell_type": "code",
   "execution_count": null,
   "metadata": {
    "collapsed": true
   },
   "outputs": [],
   "source": [
    "# left\n",
    "mri_pretess $out_path/WM_filled.mgz 255 $src_brain.mgz $out_path/WM_filled-pretess255.mgz\n",
    "mri_tessellate $out_path/WM_filled-pretess255.mgz 255 $out_path/lh.orig.nofix\n",
    "# right\n",
    "mri_pretess $out_path/WM_filled.mgz 127 $src_brain.mgz $out_path/WM_filled-pretess127.mgz\n",
    "mri_tessellate $out_path/WM_filled-pretess127.mgz 127 $out_path/rh.orig.nofix\n",
    "\n",
    "for xh in ${HEMI[@]}; do\n",
    "    # -- Tesselate hemispheres --\n",
    "    # NB! you may need to redo from here after fixing WM\n",
    "    mris_extract_main_component $out_path/${xh}.orig.nofix $out_path/${xh}.orig.nofix\n",
    "    mris_smooth -nw $out_path/${xh}.orig.nofix $out_path/${xh}.smoothwm.nofix\n",
    "    mris_inflate $out_path/${xh}.smoothwm.nofix $out_path/${xh}.inflated.nofix\n",
    "    mris_sphere -q $out_path/${xh}.inflated.nofix $out_path/${xh}.qsphere.nofix\n",
    "done"
   ]
  },
  {
   "cell_type": "code",
   "execution_count": null,
   "metadata": {
    "collapsed": true
   },
   "outputs": [],
   "source": [
    "# Inspect the results\n",
    "freeview -v $src_brain.mgz \\\n",
    "    -f $out_path/lh.smoothwm.nofix $out_path/lh.inflated.nofix \\\n",
    "    $out_path/rh.smoothwm.nofix $out_path/rh.inflated.nofix &"
   ]
  },
  {
   "cell_type": "code",
   "execution_count": null,
   "metadata": {},
   "outputs": [],
   "source": [
    "# Fix topology\n",
    "for xh in ${HEMI[@]}; do\n",
    "    cp $out_path/${xh}.orig.nofix $out_path/${xh}.orig\n",
    "    cp $out_path/${xh}.inflated.nofix $out_path/${xh}.inflated\n",
    "    mris_euler_number $out_path/${xh}.orig\n",
    "    mris_remove_intersection $out_path/${xh}.orig $out_path/${xh}.orig\n",
    "    mris_smooth -nw $out_path/${xh}.orig $out_path/${xh}.smoothwm\n",
    "    mris_inflate $out_path/${xh}.smoothwm $out_path/${xh}.inflated\n",
    "done"
   ]
  },
  {
   "cell_type": "markdown",
   "metadata": {},
   "source": [
    "### Manual adjustments and re-tesselations"
   ]
  },
  {
   "cell_type": "code",
   "execution_count": null,
   "metadata": {
    "collapsed": true
   },
   "outputs": [],
   "source": [
    "# Check results again and edit the WM volume to fix errors\n",
    "# keep doing this until you're happy with the result\n",
    "freeview -v $src_brain.mgz -v $out_path/${SUBJ}_WM_fix.mgz \\\n",
    "    -f $out_path/lh.smoothwm $out_path/lh.inflated \\\n",
    "    $out_path/rh.smoothwm $out_path/rh.inflated &"
   ]
  },
  {
   "cell_type": "code",
   "execution_count": null,
   "metadata": {
    "collapsed": true
   },
   "outputs": [],
   "source": [
    "# redo the tesselation with the fixed WM volume\n",
    "mri_fill -CV ${CC[0]} ${CC[1]} ${CC[2]} \\\n",
    "    -PV ${PONS[0]} ${PONS[1]} ${PONS[2]} \\\n",
    "    $out_path/${SUBJ}_WM_fix.mgz $out_path/WM_filled.mgz\n",
    "    \n",
    "mri_pretess $out_path/WM_filled.mgz 255 $src_brain.mgz $out_path/WM_filled-pretess255.mgz\n",
    "mri_tessellate $out_path/WM_filled-pretess255.mgz 255 $out_path/lh.orig.nofix\n",
    "mri_pretess $out_path/WM_filled.mgz 127 $src_brain.mgz $out_path/WM_filled-pretess127.mgz\n",
    "mri_tessellate $out_path/WM_filled-pretess127.mgz 127 $out_path/rh.orig.nofix\n",
    "\n",
    "for xh in ${HEMI[@]}; do\n",
    "    mris_extract_main_component $out_path/${xh}.orig.nofix $out_path/${xh}.orig.nofix\n",
    "    mris_smooth -nw $out_path/${xh}.orig.nofix $out_path/${xh}.smoothwm.nofix\n",
    "    mris_inflate $out_path/${xh}.smoothwm.nofix $out_path/${xh}.inflated.nofix\n",
    "    mris_sphere -q $out_path/${xh}.inflated.nofix $out_path/${xh}.qsphere.nofix\n",
    "    \n",
    "    cp $out_path/${xh}.orig.nofix $out_path/${xh}.orig\n",
    "    cp $out_path/${xh}.inflated.nofix $out_path/${xh}.inflated\n",
    "    \n",
    "    mris_euler_number $out_path/${xh}.orig\n",
    "    mris_remove_intersection $out_path/${xh}.orig $out_path/${xh}.orig\n",
    "    mris_smooth -nw $out_path/${xh}.orig $out_path/${xh}.smoothwm\n",
    "    mris_inflate $out_path/${xh}.smoothwm $out_path/${xh}.inflated\n",
    "    mris_curvature -thresh .999 -n -a 5 -w -distances 10 10 $out_path/${xh}.inflated\n",
    "done\n",
    "echo 'TESSELATION DONE!'"
   ]
  },
  {
   "cell_type": "markdown",
   "metadata": {},
   "source": [
    "### Next steps"
   ]
  },
  {
   "cell_type": "code",
   "execution_count": null,
   "metadata": {},
   "outputs": [],
   "source": [
    "# create a freesurfer SUBJECT with the correct folder structure\n",
    "echo 'Creating a subject directory for '${SUBJ}'in:'\n",
    "echo ${SUBJECTS_DIR}/${SUBJ}\n",
    "mksubjdirs ${SUBJECTS_DIR}/${SUBJ}"
   ]
  },
  {
   "cell_type": "code",
   "execution_count": null,
   "metadata": {},
   "outputs": [],
   "source": [
    "# copy the necessary files for cutting to the subject directory\n",
    "cp $out_path/lh.inflated ${SUBJECTS_DIR}/${SUBJ}/surf/\n",
    "cp $out_path/lh.smoothwm ${SUBJECTS_DIR}/${SUBJ}/surf/\n",
    "cp $out_path/lh.orig ${SUBJECTS_DIR}/${SUBJ}/surf/\n",
    "\n",
    "cp $src_path/${SUBJ}_N4.mgz ${SUBJECTS_DIR}/${SUBJ}/mri/T1.mgz\n",
    "cp $out_path/WM_filled.mgz ${SUBJECTS_DIR}/${SUBJ}/mri/filled.mgz\n",
    "cp $out_path/${SUBJ}_WM_fix.mgz ${SUBJECTS_DIR}/${SUBJ}/mri/wm.mgz\n",
    "cp ${src_path}/${SUBJ}_brain.finalsurfs.mgz ${SUBJECTS_DIR}/${SUBJ}/mri/brain.finalsurfs.mgz"
   ]
  },
  {
   "cell_type": "code",
   "execution_count": null,
   "metadata": {},
   "outputs": [],
   "source": [
    "xh=${HEMI[0]} # 1 hemisphere for testing\n",
    "echo ${xh}\n",
    "mris_make_surfaces -noaseg -noaparc -T1 brain.finalsurfs -orig_wm orig ${SUBJ} ${xh}"
   ]
  },
  {
   "cell_type": "code",
   "execution_count": null,
   "metadata": {},
   "outputs": [],
   "source": [
    "freeview ${SUBJ} -v T1 -f lh.inflated"
   ]
  },
  {
   "cell_type": "code",
   "execution_count": null,
   "metadata": {},
   "outputs": [],
   "source": [
    "tksurfer ${SUBJ} lh inflated "
   ]
  },
  {
   "cell_type": "code",
   "execution_count": null,
   "metadata": {},
   "outputs": [],
   "source": [
    "cd ${SUBJECTS_DIR}/${SUBJ}/surf/\n",
    "mris_flatten -w 0 -distances 20 7 lh.full.patch.3d  lh.full.patch.flat\n"
   ]
  },
  {
   "cell_type": "code",
   "execution_count": null,
   "metadata": {},
   "outputs": [],
   "source": []
  },
  {
   "cell_type": "code",
   "execution_count": null,
   "metadata": {},
   "outputs": [],
   "source": []
  }
 ],
 "metadata": {
  "kernelspec": {
   "display_name": "Bash",
   "language": "bash",
   "name": "bash"
  },
  "language_info": {
   "codemirror_mode": "shell",
   "file_extension": ".sh",
   "mimetype": "text/x-sh",
   "name": "bash"
  }
 },
 "nbformat": 4,
 "nbformat_minor": 2
}
