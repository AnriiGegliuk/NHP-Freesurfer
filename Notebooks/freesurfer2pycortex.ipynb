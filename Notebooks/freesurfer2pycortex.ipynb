{
 "cells": [
  {
   "cell_type": "markdown",
   "metadata": {},
   "source": [
    "# Import NHP surfaces from NHP-Freesurfer into Pycortex\n",
    "This pipeline assumes that you have already:    \n",
    "- Have [Freesurfer](https://surfer.nmr.mgh.harvard.edu/) installed.\n",
    "- Processed the NHP data with [NHP-Freesurfer](https://github.com/VisionandCognition/NHP-Freesurfer).     \n",
    "- Installed pycortex as explained in the [README](https://github.com/VisionandCognition/NHP-pycortex/blob/master/README.md) file of this repo.\n",
    "\n",
    "If this is the case you can follow the steps below to:     \n",
    "- Import the NHP-Freesurfer subject into Pycortex (surfaces)   \n",
    "- Import flatmaps and transform information between templates and surfaces\n",
    "- Check if it worked using dummy data    \n",
    "\n",
    "Finally, some instructions are provided to project *any* volumetric to surfaces with Pycortex."
   ]
  },
  {
   "cell_type": "markdown",
   "metadata": {},
   "source": [
    "## Import FS subject\n",
    "This works for FS subjects that have been properly processed with [NHP-Freesurfer](https://github.com/VisionandCognition/NHP-Freesurfer). Some methods in Pycortex have been adapted to make them compatible with NHP pipelines. For example, `cortex.freesurfer.import_subjnhp` is an nhp adaptation of pycortex's `cortex.freesurfer.import_subj`. The original method is also still present, but `cortex.freesurfer.import_subjnhp` avoids trying to import data-files that do not exist for NHP-Freesurfer (like the subcortical segementation `aseg.mgz`)."
   ]
  },
  {
   "cell_type": "code",
   "execution_count": 1,
   "metadata": {},
   "outputs": [],
   "source": [
    "import cortex\n",
    "import os, shutil, subprocess\n",
    "import numpy as np"
   ]
  },
  {
   "cell_type": "code",
   "execution_count": 2,
   "metadata": {},
   "outputs": [],
   "source": [
    "subject='Eddy' # should be the FS Subject name"
   ]
  },
  {
   "cell_type": "code",
   "execution_count": 3,
   "metadata": {},
   "outputs": [],
   "source": [
    "# freesurfer subject folder\n",
    "fsp = os.path.join(os.environ['SUBJECTS_DIR'],subject) # if FS is installed, this env_variable should give us the subjects directory\n",
    "# manual-masks path with reference volumes\n",
    "manmask_path = '/Users/chris/Dropbox/GIT_Support/NHP-BIDS/manual-masks' # NB! this is system dependent\n",
    "mm_func = os.path.join(manmask_path, 'sub-' + subject.lower(), 'func')\n",
    "mm_anat = os.path.join(manmask_path, 'sub-' + subject.lower(), 'anat')"
   ]
  },
  {
   "cell_type": "code",
   "execution_count": 4,
   "metadata": {},
   "outputs": [
    {
     "name": "stdout",
     "output_type": "stream",
     "text": [
      "b'created by chris on Sun Mar 10 18:29:31 2019\\n'\n",
      "b'created by chris on Sun Mar 10 18:29:33 2019\\n'\n",
      "b'created by chris on Sun Mar 10 18:46:17 2019\\n'\n",
      "b'created by chris on Sun Mar 10 18:46:19 2019\\n'\n",
      "b'created by chris on Sun Mar 10 18:29:31 2019\\n'\n",
      "b'created by chris on Sun Mar 10 18:46:17 2019\\n'\n",
      "b'created by chris on Sun Mar 10 18:29:33 2019\\n'\n",
      "b'created by chris on Sun Mar 10 18:46:19 2019\\n'\n",
      "b'created by chris on Sun Mar 10 18:29:52 2019\\n'\n",
      "b'created by chris on Sun Mar 10 18:46:39 2019\\n'\n"
     ]
    }
   ],
   "source": [
    "# import Freesurfer subject into pycortex\n",
    "cortex.freesurfer.import_subjnhp(subject)"
   ]
  },
  {
   "cell_type": "markdown",
   "metadata": {},
   "source": [
    "## Import FS subject\n",
    "These flatmaps should have been generated with [NHP-Freesurfer](https://github.com/VisionandCognition/NHP-Freesurfer). Here we only import the full hemispheric flatmap, but you can do the same thing for other flatmaps (e.g., occipital). Make sure they are in the expected naming scheme though and create copiess (like we do below) if they're not."
   ]
  },
  {
   "cell_type": "code",
   "execution_count": 5,
   "metadata": {},
   "outputs": [],
   "source": [
    "# copy FS flatmaps to expected naming scheme (may not be necessary but is if you followed NHP-Freesurfer)\n",
    "for xh in ['lh','rh']:\n",
    "    src_file = os.path.join(fsp,'surf', xh + '.full.patch.flat')\n",
    "    trg_file = os.path.join(fsp,'surf', xh + '.full.flat.patch.3d')\n",
    "    shutil.copyfile(src_file,trg_file)"
   ]
  },
  {
   "cell_type": "code",
   "execution_count": 6,
   "metadata": {},
   "outputs": [
    {
     "name": "stdin",
     "output_type": "stream",
     "text": [
      "Warning: This is intended to over-write .gii files storing\n",
      "flatmap vertex locations for this subject, and will result\n",
      "in deletion of the overlays.svg file and all cached info\n",
      "for this subject (because flatmaps will fundamentally change).\n",
      "Proceed? [y]/n:  y\n"
     ]
    },
    {
     "name": "stdout",
     "output_type": "stream",
     "text": [
      "b'created by chris on Sun Mar 10 18:29:31 2019\\n'\n",
      "saving to /home/chris/Dropbox/CURRENT_PROJECTS/NHP_MRI/pycortex/db/Eddy/surfaces/flat_lh.gii\n",
      "b'created by chris on Sun Mar 10 18:46:17 2019\\n'\n",
      "saving to /home/chris/Dropbox/CURRENT_PROJECTS/NHP_MRI/pycortex/db/Eddy/surfaces/flat_rh.gii\n",
      "No overlays.svg file to delete\n"
     ]
    }
   ],
   "source": [
    "# also import FS flatmaps into pycortex\n",
    "cortex.freesurfer.import_flat(subject,\"full\")"
   ]
  },
  {
   "cell_type": "markdown",
   "metadata": {},
   "source": [
    "## [OPTIONAL] Create the Freesurfer based transforms\n",
    "If the transforms from func/anat (reference) to the FS-anatomical on which the surfaces are based have not been created yet, do it here. If they do exist, skip these steps and move on to **Convert and import Freesurfer transforms into Pycortex**"
   ]
  },
  {
   "cell_type": "code",
   "execution_count": 7,
   "metadata": {},
   "outputs": [
    {
     "data": {
      "text/plain": [
       "CompletedProcess(args=['mri_convert', '/media/DATA1/NHP_MRI/freesurfer/subjects/Eddy/mri/wm.mgz', '/media/DATA1/NHP_MRI/freesurfer/subjects/Eddy/mri/wm.nii.gz'], returncode=0)"
      ]
     },
     "execution_count": 7,
     "metadata": {},
     "output_type": "execute_result"
    }
   ],
   "source": [
    "# where are functional references\n",
    "epi = os.path.join(mm_func, 'sub-' + subject.lower() + '_ref_func_res-1x1x1.nii.gz')\n",
    "epi_mask = os.path.join(mm_func, 'sub-' + subject.lower() + '_ref_func_mask_res-1x1x1.nii.gz')\n",
    "epi_brain = os.path.join(mm_func, 'sub-' + subject.lower() + '_ref_func_brain_res-1x1x1.nii.gz')\n",
    "# where are anatomical references\n",
    "t1 = os.path.join(mm_anat, 'sub-' + subject.lower() + '_ref_anat_res-1x1x1.nii.gz')\n",
    "t1_mask = os.path.join(mm_anat, 'sub-' + subject.lower() + '_ref_anat_mask_res-1x1x1.nii.gz')\n",
    "t1_brain = os.path.join(mm_anat, 'sub-' + subject.lower() + '_ref_anat_brain_res-1x1x1.nii.gz')\n",
    "# where are the freesurfer anatomicals \n",
    "fs_t1 = os.path.join(fsp,'mri','brainmask.mgz')\n",
    "fs_wm = os.path.join(fsp,'mri','wm.mgz')\n",
    "# make a folder for reference-to-freesurfer files\n",
    "mm2fs_path = os.path.join(fsp,'manual-masks_toFS') \n",
    "shutil.os.makedirs(os.path.join(mm2fs_path,'func'),exist_ok=True)\n",
    "shutil.os.makedirs(os.path.join(mm2fs_path,'anat'),exist_ok=True)\n",
    "# convert mgz to nifti\n",
    "subprocess.run(['mri_convert', fs_t1, os.path.join(fsp,'mri','brain.nii.gz')])\n",
    "subprocess.run(['mri_convert', fs_wm, os.path.join(fsp,'mri','wm.nii.gz')])"
   ]
  },
  {
   "cell_type": "markdown",
   "metadata": {},
   "source": [
    "Now create the registration files. First for the epi to fs_anat volumes."
   ]
  },
  {
   "cell_type": "code",
   "execution_count": 15,
   "metadata": {},
   "outputs": [
    {
     "data": {
      "text/plain": [
       "CompletedProcess(args=['tkregister2', '--mov', '/Users/chris/Dropbox/GIT_Support/NHP-BIDS/manual-masks/sub-eddy/func/sub-eddy_ref_func_res-1x1x1.nii.gz', '--targ', '/media/DATA1/NHP_MRI/freesurfer/subjects/Eddy/mri/brain.nii.gz', '--fsl', '/media/DATA1/NHP_MRI/freesurfer/subjects/Eddy/manual-masks_toFS/func/epi2anat.mat', '--reg', '/media/DATA1/NHP_MRI/freesurfer/subjects/Eddy/manual-masks_toFS/func/reg.fsl.dat', '--s', 'Eddy'], returncode=0)"
      ]
     },
     "execution_count": 15,
     "metadata": {},
     "output_type": "execute_result"
    }
   ],
   "source": [
    "# flirt\n",
    "subprocess.run([\n",
    "    'flirt', '-ref', os.path.join(fsp,'mri','brain.nii.gz'),\n",
    "    '-wmseg', os.path.join(fsp,'mri','wm.nii.gz'),\n",
    "    '-in', epi_brain,\n",
    "    '-out', os.path.join(mm2fs_path,'func','epi2anat.nii.gz'),\n",
    "    '-omat', os.path.join(mm2fs_path,'func','epi2anat.mat'),\n",
    "    '-pedir','-2',\n",
    "    ])\n",
    "\n",
    "# tkreg\n",
    "subprocess.run([\n",
    "    'tkregister2', '--mov', epi,\n",
    "    '--targ', os.path.join(fsp,'mri','brain.nii.gz'),\n",
    "    '--fsl',  os.path.join(mm2fs_path,'func','epi2anat.mat'),\n",
    "    '--reg',  os.path.join(mm2fs_path,'func','reg.fsl.dat'),\n",
    "    '--s', subject,\n",
    "    ])"
   ]
  },
  {
   "cell_type": "markdown",
   "metadata": {},
   "source": [
    "Then the anat to fs_anat (this is useful for when data is warped to anatomy). Alternatively you could also do this for a warp to NMT, but we don't here.\n",
    "NB! For one of our monkeys this keeps giving weird results for anatomy. Do manual alignment if that happens."
   ]
  },
  {
   "cell_type": "code",
   "execution_count": 30,
   "metadata": {},
   "outputs": [
    {
     "data": {
      "text/plain": [
       "CompletedProcess(args=['tkregister2', '--mov', '/Users/chris/Dropbox/GIT_Support/NHP-BIDS/manual-masks/sub-eddy/anat/sub-eddy_ref_anat_brain_res-1x1x1.nii.gz', '--targ', '/media/DATA1/NHP_MRI/freesurfer/subjects/Eddy/mri/brain.nii.gz', '--fsl', '/media/DATA1/NHP_MRI/freesurfer/subjects/Eddy/manual-masks_toFS/anat/anat2anat.mat', '--reg', '/media/DATA1/NHP_MRI/freesurfer/subjects/Eddy/manual-masks_toFS/anat/reg.fsl.dat', '--s', 'Eddy'], returncode=0)"
      ]
     },
     "execution_count": 30,
     "metadata": {},
     "output_type": "execute_result"
    }
   ],
   "source": [
    "# flirt\n",
    "subprocess.run(['flirt',\n",
    "    '-in', t1_brain,\n",
    "    '-ref', os.path.join(fsp,'mri','brain.nii.gz'),\n",
    "    '-out', os.path.join(mm2fs_path,'anat','anat2anat.nii.gz'),\n",
    "    '-omat', os.path.join(mm2fs_path,'anat','anat2anat.mat'),\n",
    "    ])\n",
    "\n",
    "# tkreg\n",
    "subprocess.run([\n",
    "    'tkregister2', '--mov', t1_brain,\n",
    "    '--targ', os.path.join(fsp,'mri','brain.nii.gz'),\n",
    "    '--fsl',  os.path.join(mm2fs_path,'anat','anat2anat.mat'),\n",
    "    '--reg',  os.path.join(mm2fs_path,'anat','reg.fsl.dat'),\n",
    "    '--s', subject,\n",
    "    ])"
   ]
  },
  {
   "cell_type": "markdown",
   "metadata": {},
   "source": [
    "## Convert and import freesurfer transforms into Pycortex\n",
    "These transforms have probably already been generated in [NHP-Freesurfer](https://github.com/VisionandCognition/NHP-Freesurfer). "
   ]
  },
  {
   "cell_type": "code",
   "execution_count": null,
   "metadata": {},
   "outputs": [],
   "source": [
    "# convert the existing FS transform from ref-functional to FS-anatomical into a pycortex format\n",
    "xfm_name = \"epi2surf\" # how will we call this transform\n",
    "# copy FS anatomy to expected filename (may not be necessary but is if you followed NHP-Freesurfer)\n",
    "shutil.copyfile(os.path.join(fsp,'mri','T1.mgz'), os.path.join(fsp,'mri','orig.mgz'))\n",
    "# set same shorter names for files\n",
    "# the tkreg file from freesurfer\n",
    "fs_dat_func = os.path.join(mm2fs_path,'func','reg.fsl.dat')\n",
    "fs_dat_anat = os.path.join(mm2fs_path,'anat','reg.fsl.dat')\n",
    "\n",
    "# convert\n",
    "cortex.xfm.Transform.from_freesurfer(fs_dat_func,epi,subject).save(subject,xfm_name,'coord')\n",
    "# and for anatomy\n",
    "xfm_name = \"anat2surf\" # how will we call this transform\n",
    "cortex.xfm.Transform.from_freesurfer(fs_dat_anat,epi,subject).save(subject,xfm_name,'coord')"
   ]
  },
  {
   "cell_type": "code",
   "execution_count": null,
   "metadata": {},
   "outputs": [],
   "source": [
    "# You can load data with \n",
    "# test_data = <'path/to/testdata.nii.gz>'\n",
    "# data = cortex.Volume.random(subject, xfm)\n",
    "\n",
    "# Instead we'll create some random data here to test\n",
    "data = cortex.Volume.random(subject, 'epi2surf')"
   ]
  },
  {
   "cell_type": "code",
   "execution_count": null,
   "metadata": {},
   "outputs": [],
   "source": [
    "# open web viewer\n",
    "cortex.webshow(data)"
   ]
  },
  {
   "cell_type": "code",
   "execution_count": null,
   "metadata": {},
   "outputs": [],
   "source": []
  }
 ],
 "metadata": {
  "kernelspec": {
   "display_name": "Python 3",
   "language": "python",
   "name": "python3"
  },
  "language_info": {
   "codemirror_mode": {
    "name": "ipython",
    "version": 3
   },
   "file_extension": ".py",
   "mimetype": "text/x-python",
   "name": "python",
   "nbconvert_exporter": "python",
   "pygments_lexer": "ipython3",
   "version": "3.8.1"
  }
 },
 "nbformat": 4,
 "nbformat_minor": 4
}
